{
  "cells": [
    {
      "cell_type": "markdown",
      "metadata": {},
      "source": [
        "\n# Cross-Validation for Generalized Linear Models\n\nThis example shows how to use cross-validation to automatically select\nthe optimal regularization parameter for generalized linear models.\n"
      ]
    },
    {
      "cell_type": "code",
      "execution_count": null,
      "metadata": {
        "collapsed": false
      },
      "outputs": [],
      "source": [
        "# Author: Florian Kozikowski\n\nimport numpy as np\nimport matplotlib.pyplot as plt\n\nfrom skglm.utils.data import make_correlated_data\nfrom skglm.cv import GeneralizedLinearEstimatorCV\nfrom skglm.estimators import GeneralizedLinearEstimator\nfrom skglm.datafits import Quadratic\nfrom skglm.penalties import L1_plus_L2\nfrom skglm.solvers import AndersonCD"
      ]
    },
    {
      "cell_type": "markdown",
      "metadata": {},
      "source": [
        "## Generate correlated data with sparse ground truth\n\n"
      ]
    },
    {
      "cell_type": "code",
      "execution_count": null,
      "metadata": {
        "collapsed": false
      },
      "outputs": [],
      "source": [
        "X, y, true_coef = make_correlated_data(\n    n_samples=150, n_features=300, random_state=42\n)"
      ]
    },
    {
      "cell_type": "markdown",
      "metadata": {},
      "source": [
        "## Fit model using cross-validation\nThe CV estimator automatically finds the best regularization strength\n\n"
      ]
    },
    {
      "cell_type": "code",
      "execution_count": null,
      "metadata": {
        "collapsed": false
      },
      "outputs": [],
      "source": [
        "estimator = GeneralizedLinearEstimatorCV(\n    datafit=Quadratic(),\n    penalty=L1_plus_L2(alpha=1.0, l1_ratio=0.5),\n    solver=AndersonCD(max_iter=100),\n    cv=5,\n    n_alphas=50,\n)\nestimator.fit(X, y)\n\nprint(f\"Best alpha: {estimator.alpha_:.3f}\")\nn_nonzero = np.sum(estimator.coef_ != 0)\nn_true_nonzero = np.sum(true_coef != 0)\nprint(f\"Non-zero coefficients: {n_nonzero} (true: {n_true_nonzero})\")"
      ]
    },
    {
      "cell_type": "markdown",
      "metadata": {},
      "source": [
        "## Visualize the cross-validation path\nPlot shows how CV balances model complexity with prediction performance\n\n"
      ]
    },
    {
      "cell_type": "code",
      "execution_count": null,
      "metadata": {
        "collapsed": false
      },
      "outputs": [],
      "source": [
        "# Get mean CV scores\nmean_scores = np.mean(estimator.scores_path_, axis=1)\nstd_scores = np.std(estimator.scores_path_, axis=1)\nbest_idx = np.argmax(mean_scores)\nbest_alpha = estimator.alphas_[best_idx]\n\n# Compute coefficient paths\ncoef_paths = []\nfor alpha in estimator.alphas_:\n    est_temp = GeneralizedLinearEstimator(\n        datafit=Quadratic(),\n        penalty=L1_plus_L2(alpha=alpha, l1_ratio=0.5),\n        solver=AndersonCD(max_iter=100)\n    )\n    est_temp.fit(X, y)\n    coef_paths.append(est_temp.coef_)\ncoef_paths = np.array(coef_paths)\n\nfig, (ax1, ax2) = plt.subplots(2, 1, figsize=(8, 10), sharex=True)\n\nax1.semilogx(estimator.alphas_, -mean_scores, 'b-', linewidth=2, label='MSE')\nax1.fill_between(estimator.alphas_,\n                 -mean_scores - std_scores,\n                 -mean_scores + std_scores,\n                 alpha=0.2, label='\u00b11 std. dev.')\nax1.axvline(best_alpha, color='red', linestyle='--',\n            label=f'Best alpha = {best_alpha:.2e}')\nax1.set_ylabel('MSE')\nax1.set_title('Cross-Validation Score vs. Regularization')\nax1.legend(loc='best')\nax1.grid(True, alpha=0.3)\nax1.set_xlabel('alpha')\n\nfor j in range(coef_paths.shape[1]):\n    ax2.semilogx(estimator.alphas_, coef_paths[:, j], lw=1, alpha=0.3)\nax2.axvline(best_alpha, color='red', linestyle='--')\nax2.set_xlabel('alpha')\nax2.set_ylabel('Coefficient value')\nax2.set_title('Regularization Path of Coefficients')\nax2.grid(True, alpha=0.3)\n\nplt.tight_layout()\nplt.show()"
      ]
    },
    {
      "cell_type": "markdown",
      "metadata": {},
      "source": [
        "Top panel: Mean CV MSE shows U-shape, minimized at chosen alpha for optimal\nbias-variance tradeoff.\n\nBottom panel: At this alpha, most coefficients are shrunk (many near zero),\nhighlighting a sparse subset of key predictors.\n\n"
      ]
    },
    {
      "cell_type": "markdown",
      "metadata": {},
      "source": [
        "## Visualize distance to true coefficients\nCompute how well different regularization strengths recover the true coefficients\n\n"
      ]
    },
    {
      "cell_type": "code",
      "execution_count": null,
      "metadata": {
        "collapsed": false
      },
      "outputs": [],
      "source": [
        "distances = []\nfor alpha in estimator.alphas_:\n    est_temp = GeneralizedLinearEstimator(\n        datafit=Quadratic(),\n        penalty=L1_plus_L2(alpha=alpha, l1_ratio=0.5),\n        solver=AndersonCD(max_iter=100)\n    )\n    est_temp.fit(X, y)\n    distances.append(np.linalg.norm(est_temp.coef_ - true_coef, ord=1))\n\nplt.figure(figsize=(8, 5))\nplt.loglog(estimator.alphas_, distances, 'b-', linewidth=2)\nplt.axvline(estimator.alpha_, color='red', linestyle='--',\n            label=f'CV-selected alpha = {estimator.alpha_:.3f}')\nplt.xlabel('Alpha (regularization strength)')\nplt.ylabel('L1 distance to true coefficients')\nplt.title('Recovery of True Coefficients')\nplt.legend()\nplt.grid(True, alpha=0.3)\nplt.show()\n\nprint(\n    f\"Distance at CV-selected alpha: \"\n    f\"{np.linalg.norm(estimator.coef_ - true_coef, ord=1):.3f}\")"
      ]
    },
    {
      "cell_type": "markdown",
      "metadata": {},
      "source": [
        "The U-shaped curve shows two failure modes: small alpha doesn't induce\nenough sparsity (keeping noisy/irrelevant features), while large alpha\novershrinks all coefficients including the true signals. Cross-validation\nfinds a good balance without needing access to the ground truth.\n\n"
      ]
    }
  ],
  "metadata": {
    "kernelspec": {
      "display_name": "Python 3",
      "language": "python",
      "name": "python3"
    },
    "language_info": {
      "codemirror_mode": {
        "name": "ipython",
        "version": 3
      },
      "file_extension": ".py",
      "mimetype": "text/x-python",
      "name": "python",
      "nbconvert_exporter": "python",
      "pygments_lexer": "ipython3",
      "version": "3.10.18"
    }
  },
  "nbformat": 4,
  "nbformat_minor": 0
}