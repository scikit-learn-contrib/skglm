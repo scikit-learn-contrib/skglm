{
  "cells": [
    {
      "cell_type": "markdown",
      "metadata": {},
      "source": [
        "\n# Timing comparison with scikit-learn for Lasso\nCompare time to solve large scale Lasso problems with scikit-learn.\n"
      ]
    },
    {
      "cell_type": "code",
      "execution_count": null,
      "metadata": {
        "collapsed": false
      },
      "outputs": [],
      "source": [
        "import time\nimport warnings\nimport numpy as np\nfrom numpy.linalg import norm\nimport matplotlib.pyplot as plt\nfrom libsvmdata import fetch_libsvm\n\nfrom sklearn.exceptions import ConvergenceWarning\nfrom sklearn.linear_model import Lasso as Lasso_sklearn\nfrom sklearn.linear_model import ElasticNet as Enet_sklearn\n\nfrom skglm import Lasso, ElasticNet\n\nwarnings.filterwarnings('ignore', category=ConvergenceWarning)\n\n\ndef compute_obj(X, y, w, alpha, l1_ratio=1):\n    loss = norm(y - X @ w) ** 2 / (2 * len(y))\n    penalty = (alpha * l1_ratio * np.sum(np.abs(w))\n               + 0.5 * alpha * (1 - l1_ratio) * norm(w) ** 2)\n    return loss + penalty\n\n\nX, y = fetch_libsvm(\"news20.binary\"\n                    )\nalpha = np.max(np.abs(X.T @ y)) / len(y) / 10\n\ndict_sklearn = {}\ndict_sklearn[\"lasso\"] = Lasso_sklearn(\n    alpha=alpha, fit_intercept=False, tol=1e-12)\n\ndict_sklearn[\"enet\"] = Enet_sklearn(\n    alpha=alpha, fit_intercept=False, tol=1e-12, l1_ratio=0.5)\n\ndict_ours = {}\ndict_ours[\"lasso\"] = Lasso(\n    alpha=alpha, fit_intercept=False, tol=1e-12)\ndict_ours[\"enet\"] = ElasticNet(\n    alpha=alpha, fit_intercept=False, tol=1e-12, l1_ratio=0.5)\n\nmodels = [\"lasso\", \"enet\"]\n\nfig, axarr = plt.subplots(2, 1, constrained_layout=True)\n\nfor ax, model, l1_ratio in zip(axarr, models, [1, 0.5]):\n    pobj_dict = {}\n    pobj_dict[\"sklearn\"] = list()\n    pobj_dict[\"us\"] = list()\n\n    time_dict = {}\n    time_dict[\"sklearn\"] = list()\n    time_dict[\"us\"] = list()\n\n    # Remove compilation time\n    dict_ours[model].max_iter = 10_000\n    w_star = dict_ours[model].fit(X, y).coef_\n    pobj_star = compute_obj(X, y, w_star, alpha, l1_ratio)\n    for n_iter_sklearn in np.unique(np.geomspace(1, 50, num=15).astype(int)):\n        dict_sklearn[model].max_iter = n_iter_sklearn\n\n        t_start = time.time()\n        w_sklearn = dict_sklearn[model].fit(X, y).coef_\n        time_dict[\"sklearn\"].append(time.time() - t_start)\n        pobj_dict[\"sklearn\"].append(compute_obj(X, y, w_sklearn, alpha, l1_ratio))\n\n    for n_iter_us in range(1, 10):\n        dict_ours[model].max_iter = n_iter_us\n        t_start = time.time()\n        w = dict_ours[model].fit(X, y).coef_\n        time_dict[\"us\"].append(time.time() - t_start)\n        pobj_dict[\"us\"].append(compute_obj(X, y, w, alpha, l1_ratio))\n\n    ax.semilogy(\n        time_dict[\"sklearn\"], pobj_dict[\"sklearn\"] - pobj_star, label='sklearn')\n    ax.semilogy(\n        time_dict[\"us\"], pobj_dict[\"us\"] - pobj_star, label='skglm')\n\n    ax.set_ylim((1e-10, 1))\n    ax.set_title(model)\n    ax.legend()\n    ax.set_ylabel(\"Objective suboptimality\")\n\naxarr[1].set_xlabel(\"Time (s)\")\nplt.show(block=False)"
      ]
    }
  ],
  "metadata": {
    "kernelspec": {
      "display_name": "Python 3",
      "language": "python",
      "name": "python3"
    },
    "language_info": {
      "codemirror_mode": {
        "name": "ipython",
        "version": 3
      },
      "file_extension": ".py",
      "mimetype": "text/x-python",
      "name": "python",
      "nbconvert_exporter": "python",
      "pygments_lexer": "ipython3",
      "version": "3.10.16"
    }
  },
  "nbformat": 4,
  "nbformat_minor": 0
}