{
  "cells": [
    {
      "cell_type": "markdown",
      "metadata": {},
      "source": [
        "\n# Comparison of Lasso and Weighted Lasso\nIllustrate the importance of feature normalization when penalizing.\n"
      ]
    },
    {
      "cell_type": "code",
      "execution_count": null,
      "metadata": {
        "collapsed": false
      },
      "outputs": [],
      "source": [
        "# Author: Mathurin Massias\n#         Quentin Bertrand\n\nimport numpy as np\nfrom numpy.linalg import norm\nimport matplotlib.pyplot as plt\n\nfrom skglm import Lasso, WeightedLasso\nfrom skglm.utils.data import make_correlated_data\n\nn_features = 30\nX, _, _ = make_correlated_data(\n    n_samples=50, n_features=n_features, random_state=0)\nw_true = np.zeros(n_features)\n\nnnz = 5\nw_true[:nnz] = 1\n\n# assume for some reason important features have a smaller norm than the other\nX[:, :nnz] *= 0.1\nnoise = np.random.randn(X.shape[0])\n# use a signal-to-noise ratio of 2\ny = X @ w_true + 0.5 * norm(X @ w_true) / norm(noise) * noise\n\n\n# the Lasso does not select small norm features, while the weighted Lasso does:\nalpha_max = np.max(np.abs(X.T @ y)) / len(y)\nalpha = alpha_max / 10\nlas = Lasso(alpha=alpha, fit_intercept=False).fit(X, y)\nwei = WeightedLasso(\n    alpha=alpha, weights=norm(X, axis=0), fit_intercept=False).fit(X, y)\n\n\nfig, axarr = plt.subplots(1, 3, sharey=True, figsize=(10, 2.4))\naxarr[0].stem(w_true)\naxarr[0].set_title(\"True coeffs\")\naxarr[1].stem(las.coef_)\naxarr[1].set_title(\"Lasso\")\naxarr[2].stem(wei.coef_)\naxarr[2].set_title(\"Weighted Lasso\")\nplt.show(block=False)"
      ]
    }
  ],
  "metadata": {
    "kernelspec": {
      "display_name": "Python 3",
      "language": "python",
      "name": "python3"
    },
    "language_info": {
      "codemirror_mode": {
        "name": "ipython",
        "version": 3
      },
      "file_extension": ".py",
      "mimetype": "text/x-python",
      "name": "python",
      "nbconvert_exporter": "python",
      "pygments_lexer": "ipython3",
      "version": "3.10.18"
    }
  },
  "nbformat": 4,
  "nbformat_minor": 0
}