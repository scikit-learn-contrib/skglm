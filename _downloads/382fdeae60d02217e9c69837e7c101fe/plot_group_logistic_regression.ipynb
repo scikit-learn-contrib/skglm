{
  "cells": [
    {
      "cell_type": "markdown",
      "metadata": {},
      "source": [
        "\n# Group Logistic regression in python\nScikit-learn is missing a Group Logistic regression estimator. We show how to implement\none with ``skglm``.\n"
      ]
    },
    {
      "cell_type": "code",
      "execution_count": null,
      "metadata": {
        "collapsed": false
      },
      "outputs": [],
      "source": [
        "# Author: Mathurin Massias\n\nimport numpy as np\n\nfrom skglm import GeneralizedLinearEstimator\nfrom skglm.datafits import LogisticGroup\nfrom skglm.penalties import WeightedGroupL2\nfrom skglm.solvers import GroupProxNewton\nfrom skglm.utils.data import make_correlated_data, grp_converter\n\nn_features = 30\nX, y, _ = make_correlated_data(\n    n_samples=10, n_features=30, random_state=0)\ny = np.sign(y)"
      ]
    },
    {
      "cell_type": "markdown",
      "metadata": {},
      "source": [
        "Classifier creation: combination of penalty, datafit and solver.\n\n\n"
      ]
    },
    {
      "cell_type": "code",
      "execution_count": null,
      "metadata": {
        "collapsed": false
      },
      "outputs": [],
      "source": [
        "grp_size = 3  # groups are made of groups of 3 consecutive features\nn_groups = n_features // grp_size\ngrp_indices, grp_ptr = grp_converter(grp_size, n_features=n_features)\nalpha = 0.01\nweights = np.ones(n_groups)\npenalty = WeightedGroupL2(alpha, weights, grp_ptr, grp_indices)\ndatafit = LogisticGroup(grp_ptr, grp_indices)\nsolver = GroupProxNewton(verbose=2)"
      ]
    },
    {
      "cell_type": "markdown",
      "metadata": {},
      "source": [
        "Train the model\n\n"
      ]
    },
    {
      "cell_type": "code",
      "execution_count": null,
      "metadata": {
        "collapsed": false
      },
      "outputs": [],
      "source": [
        "clf = GeneralizedLinearEstimator(datafit, penalty, solver)\nclf.fit(X, y)"
      ]
    },
    {
      "cell_type": "markdown",
      "metadata": {},
      "source": [
        "Fit check that groups are either all 0 or all non zero\n\n"
      ]
    },
    {
      "cell_type": "code",
      "execution_count": null,
      "metadata": {
        "collapsed": false
      },
      "outputs": [],
      "source": [
        "print(clf.coef_.reshape(-1, grp_size))"
      ]
    }
  ],
  "metadata": {
    "kernelspec": {
      "display_name": "Python 3",
      "language": "python",
      "name": "python3"
    },
    "language_info": {
      "codemirror_mode": {
        "name": "ipython",
        "version": 3
      },
      "file_extension": ".py",
      "mimetype": "text/x-python",
      "name": "python",
      "nbconvert_exporter": "python",
      "pygments_lexer": "ipython3",
      "version": "3.10.16"
    }
  },
  "nbformat": 4,
  "nbformat_minor": 0
}