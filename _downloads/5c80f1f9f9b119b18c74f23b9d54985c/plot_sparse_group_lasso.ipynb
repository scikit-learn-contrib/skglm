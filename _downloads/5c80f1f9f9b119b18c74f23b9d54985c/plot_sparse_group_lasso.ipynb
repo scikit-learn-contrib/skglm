{
  "cells": [
    {
      "cell_type": "markdown",
      "metadata": {},
      "source": [
        "\n# Fast Sparse Group Lasso in python\nScikit-learn is missing a Sparse Group Lasso regression estimator. We show how to\nimplement one with ``skglm``.\n"
      ]
    },
    {
      "cell_type": "code",
      "execution_count": null,
      "metadata": {
        "collapsed": false
      },
      "outputs": [],
      "source": [
        "# Author: Mathurin Massias"
      ]
    },
    {
      "cell_type": "code",
      "execution_count": null,
      "metadata": {
        "collapsed": false
      },
      "outputs": [],
      "source": [
        "import numpy as np\nimport matplotlib.pyplot as plt\n\nfrom skglm.solvers import GroupBCD\nfrom skglm.datafits import QuadraticGroup\nfrom skglm import GeneralizedLinearEstimator\nfrom skglm.penalties import WeightedL1GroupL2\nfrom skglm.utils.data import make_correlated_data, grp_converter\n\nn_features = 30\nX, y, _ = make_correlated_data(\n    n_samples=10, n_features=30, random_state=0)"
      ]
    },
    {
      "cell_type": "markdown",
      "metadata": {},
      "source": [
        "Model creation: combination of penalty, datafit and solver.\n\npenalty:\n\n"
      ]
    },
    {
      "cell_type": "code",
      "execution_count": null,
      "metadata": {
        "collapsed": false
      },
      "outputs": [],
      "source": [
        "grp_size = 10  # take groups of 10 consecutive features\nn_groups = n_features // grp_size\ngrp_indices, grp_ptr = grp_converter(grp_size, n_features)\nn_groups = len(grp_ptr) - 1\nweights_g = np.ones(n_groups, dtype=np.float64)\nweights_f = 0.5 * np.ones(n_features)\npenalty = WeightedL1GroupL2(\n    alpha=0.5, weights_groups=weights_g,\n    weights_features=weights_f, grp_indices=grp_indices, grp_ptr=grp_ptr)"
      ]
    },
    {
      "cell_type": "code",
      "execution_count": null,
      "metadata": {
        "collapsed": false
      },
      "outputs": [],
      "source": [
        "datafit = QuadraticGroup(grp_ptr, grp_indices)\nsolver = GroupBCD(ws_strategy=\"fixpoint\", verbose=1, fit_intercept=False, tol=1e-10)\n\nmodel = GeneralizedLinearEstimator(datafit, penalty, solver=solver)"
      ]
    },
    {
      "cell_type": "markdown",
      "metadata": {},
      "source": [
        "Train the model\n\n"
      ]
    },
    {
      "cell_type": "code",
      "execution_count": null,
      "metadata": {
        "collapsed": false
      },
      "outputs": [],
      "source": [
        "clf = GeneralizedLinearEstimator(datafit, penalty, solver)\nclf.fit(X, y)"
      ]
    },
    {
      "cell_type": "markdown",
      "metadata": {},
      "source": [
        "Some groups are fully 0, and inside non zero groups,\nsome values are 0 too\n\n"
      ]
    },
    {
      "cell_type": "code",
      "execution_count": null,
      "metadata": {
        "collapsed": false
      },
      "outputs": [],
      "source": [
        "plt.imshow(clf.coef_.reshape(-1, grp_size) != 0, cmap='Greys')\nplt.title(\"Non zero values (in black) in model coefficients\")\nplt.ylabel('Group index')\nplt.xlabel('Feature index inside group')\nplt.xticks(np.arange(grp_size))\nplt.yticks(np.arange(n_groups));"
      ]
    }
  ],
  "metadata": {
    "kernelspec": {
      "display_name": "Python 3",
      "language": "python",
      "name": "python3"
    },
    "language_info": {
      "codemirror_mode": {
        "name": "ipython",
        "version": 3
      },
      "file_extension": ".py",
      "mimetype": "text/x-python",
      "name": "python",
      "nbconvert_exporter": "python",
      "pygments_lexer": "ipython3",
      "version": "3.10.16"
    }
  },
  "nbformat": 4,
  "nbformat_minor": 0
}