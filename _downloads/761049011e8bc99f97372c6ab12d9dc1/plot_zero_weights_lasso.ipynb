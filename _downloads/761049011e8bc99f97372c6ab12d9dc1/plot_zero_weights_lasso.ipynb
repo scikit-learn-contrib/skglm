{
  "cells": [
    {
      "cell_type": "markdown",
      "metadata": {},
      "source": [
        "\n# Weighted Lasso with some zero weights\n\nThis example demonstrates how to use a weighted lasso with some vanishing\nweights. The fast solver is adapted to use primal Anderson acceleration,\nallowing it to not compute the dual and handle 0 weights.\n"
      ]
    },
    {
      "cell_type": "code",
      "execution_count": null,
      "metadata": {
        "collapsed": false
      },
      "outputs": [],
      "source": [
        "import numpy as np\nimport matplotlib.pyplot as plt\n\nfrom skglm import WeightedLasso\nfrom skglm.utils.data import make_correlated_data\n\nn_features = 100\nw_true = np.zeros(n_features)\nnp.random.seed()\nw_true[np.random.choice(n_features, 10, replace=False)] = np.random.choice([-1, 1], 10)\nX, y, w_true = make_correlated_data(\n    n_samples=100, n_features=n_features, random_state=0, w_true=w_true)\n\n\nweights = np.empty(n_features)\n# unpenalize the first 10 features:\nweights[:10] = 0\n# put large penalty on the 10-50 features\nweights[10:50] = 5\n# put small penalty on last 50 features\nweights[50:] = 1\n\nalpha_max = np.max(np.abs(X[:, weights != 0].T @ y / weights[weights != 0])) / len(y)\nclf = WeightedLasso(\n    alpha=alpha_max/50, weights=weights, fit_intercept=False).fit(X, y)\n\n\nfig, axarr = plt.subplots(1, 3, sharey=True, figsize=(\n    10.5, 3.5), constrained_layout=True)\naxarr[0].stem(np.arange(10), clf.coef_[:10])\naxarr[0].set_title(r\"unpenalized coefs: all $\\neq 0$\")\naxarr[1].stem(np.arange(10, 50), clf.coef_[10:50])\naxarr[1].set_title(r\"heavily penalized coefs: few $\\neq 0$\")\naxarr[2].stem(np.arange(50, 100), clf.coef_[50:])\naxarr[2].set_title(r\"lightly penalized coefs: many $\\neq 0$\")\n\naxarr[1].set_xlabel(\"feature index\")\nplt.show(block=False)"
      ]
    }
  ],
  "metadata": {
    "kernelspec": {
      "display_name": "Python 3",
      "language": "python",
      "name": "python3"
    },
    "language_info": {
      "codemirror_mode": {
        "name": "ipython",
        "version": 3
      },
      "file_extension": ".py",
      "mimetype": "text/x-python",
      "name": "python",
      "nbconvert_exporter": "python",
      "pygments_lexer": "ipython3",
      "version": "3.10.18"
    }
  },
  "nbformat": 4,
  "nbformat_minor": 0
}