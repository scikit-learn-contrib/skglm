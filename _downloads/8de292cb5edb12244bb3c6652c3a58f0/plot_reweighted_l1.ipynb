{
  "cells": [
    {
      "cell_type": "markdown",
      "metadata": {},
      "source": [
        "\n# Timing comparison between direct prox computation and reweighting\nCompare time and objective value of L0_5-regularized problem with\ndirect proximal computation and iterative reweighting.\n"
      ]
    },
    {
      "cell_type": "code",
      "execution_count": null,
      "metadata": {
        "collapsed": false
      },
      "outputs": [],
      "source": [
        "# Author: Pierre-Antoine Bannier <pierreantoine.bannier@gmail.com>\n\nimport time\nimport numpy as np\nimport pandas as pd\nfrom numpy.linalg import norm\nimport matplotlib.pyplot as plt\n\nfrom skglm.penalties.separable import L0_5\nfrom skglm.utils.data import make_correlated_data\nfrom skglm.estimators import GeneralizedLinearEstimator\nfrom skglm.experimental import IterativeReweightedL1\nfrom skglm.solvers import AndersonCD\n\n\nn_samples, n_features = 200, 500\nX, y, w_true = make_correlated_data(\n    n_samples=n_samples, n_features=n_features, random_state=24)\n\nalpha_max = norm(X.T @ y, ord=np.inf) / n_samples\nalphas = [alpha_max / 10, alpha_max / 100, alpha_max / 1000]\ntol = 1e-10\n\n\ndef _obj(w):\n    return (np.sum((y - X @ w) ** 2) / (2 * n_samples)\n            + alpha * np.sum(np.sqrt(np.abs(w))))\n\n\ndef fit_l05(alpha):\n    start = time.time()\n    iterative_l05 = IterativeReweightedL1(\n        penalty=L0_5(alpha),\n        solver=AndersonCD(tol=tol, fit_intercept=False)).fit(X, y)\n    iterative_time = time.time() - start\n\n    # `subdiff` strategy for WS is uninformative for L0_5\n    start = time.time()\n    direct_l05 = GeneralizedLinearEstimator(\n        penalty=L0_5(alpha),\n        solver=AndersonCD(tol=tol, fit_intercept=False,\n                          ws_strategy=\"fixpoint\")).fit(X, y)\n    direct_time = time.time() - start\n\n    results = {\n        \"iterative\": (iterative_l05, iterative_time),\n        \"direct\": (direct_l05, direct_time),\n    }\n    return results\n\n\n# caching Numba compilation\nfit_l05(alpha_max/10)\n\ntime_results = np.zeros((2, len(alphas)))\nobj_results = np.zeros((2, len(alphas)))\n\n# actual run\nfor i, alpha in enumerate(alphas):\n    results = fit_l05(alpha=alpha)\n    iterative_l05, iterative_time = results[\"iterative\"]\n    direct_l05, direct_time = results[\"direct\"]\n\n    iterative_obj = _obj(iterative_l05.coef_)\n    direct_obj = _obj(direct_l05.coef_)\n\n    obj_results[:, i] = np.array([iterative_obj, direct_obj])\n    time_results[:, i] = np.array([iterative_time, direct_time])\n\ntime_df = pd.DataFrame(time_results.T, columns=[\"Iterative\", \"Direct\"])\nobj_df = pd.DataFrame(obj_results.T, columns=[\"Iterative\", \"Direct\"])\n\ntime_df.index = [1e-1, 1e-2, 1e-3]\nobj_df.index = [1e-1, 1e-2, 1e-3]\n\nfig, axarr = plt.subplots(1, 2, figsize=(8, 3.5), constrained_layout=True)\nax = axarr[0]\ntime_df.plot.bar(rot=0, ax=ax)\nax.set_xlabel(r\"$\\lambda/\\lambda_{max}$\")\nax.set_ylabel(\"time (in s)\")\nax.set_title(\"Time to fit\")\n\nax = axarr[1]\nobj_df.plot.bar(rot=0, ax=ax)\nax.set_xlabel(r\"$\\lambda/\\lambda_{max}$\")\nax.set_ylabel(\"obj. value\")\nax.set_title(\"Objective at solution\")\nplt.show(block=False)"
      ]
    }
  ],
  "metadata": {
    "kernelspec": {
      "display_name": "Python 3",
      "language": "python",
      "name": "python3"
    },
    "language_info": {
      "codemirror_mode": {
        "name": "ipython",
        "version": 3
      },
      "file_extension": ".py",
      "mimetype": "text/x-python",
      "name": "python",
      "nbconvert_exporter": "python",
      "pygments_lexer": "ipython3",
      "version": "3.10.17"
    }
  },
  "nbformat": 4,
  "nbformat_minor": 0
}