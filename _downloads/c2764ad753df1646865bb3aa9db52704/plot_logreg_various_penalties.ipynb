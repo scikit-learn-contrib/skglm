{
  "cells": [
    {
      "cell_type": "markdown",
      "metadata": {},
      "source": [
        "\n# Logistic regression with Elastic net and minimax concave penalties\nIllustrate the modularity of ``skglm`` by using ``GeneralizedLinearEstimator`` with one datafit and one penalty.\n"
      ]
    },
    {
      "cell_type": "code",
      "execution_count": null,
      "metadata": {
        "collapsed": false
      },
      "outputs": [],
      "source": [
        "# Author: Pierre-Antoine Bannier\n\nimport numpy as np\nfrom numpy.linalg import norm\nimport matplotlib.pyplot as plt\n\nfrom sklearn.metrics import f1_score\n\nfrom skglm import GeneralizedLinearEstimator\nfrom skglm.datafits import Logistic\nfrom skglm.penalties import L1_plus_L2, MCPenalty\nfrom skglm.utils.data import make_correlated_data\n\n\nn_samples, n_features = 50, 100\nX, y, w_star = make_correlated_data(\n    n_samples=n_samples, n_features=n_features, random_state=0)\ny_ind = np.sign(y)\n\n# standardize for MCP\nX /= norm(X, axis=0) / np.sqrt(len(X))\n\n# Split data in train set and test set\nX_train, y_train = X[: n_samples // 2], y_ind[: n_samples // 2]\nX_test, y_test = X[n_samples // 2:], y_ind[n_samples // 2:]\n\n\nalpha = 0.005\ngamma = 3.0\nl1_ratio = 0.3\nclf_enet = GeneralizedLinearEstimator(\n    Logistic(),\n    L1_plus_L2(alpha, l1_ratio),\n)\ny_pred_enet = clf_enet.fit(X_train, y_train).predict(X_test)\nf1_score_enet = f1_score(y_test, y_pred_enet)\n\nclf_mcp = GeneralizedLinearEstimator(\n    Logistic(),\n    MCPenalty(alpha, gamma),\n)\ny_pred_mcp = clf_mcp.fit(X_train, y_train).predict(X_test)\nf1_score_mcp = f1_score(y_test, y_pred_mcp)\n\n\nm, s, _ = plt.stem(\n    np.where(clf_enet.coef_.ravel())[0],\n    clf_enet.coef_[clf_enet.coef_ != 0],\n    markerfmt=\"x\",\n    label=\"Elastic net coefficients\",\n)\nplt.setp([m, s], color=\"#2ca02c\")\nm, s, _ = plt.stem(\n    np.where(clf_mcp.coef_.ravel())[0],\n    clf_mcp.coef_[clf_mcp.coef_ != 0],\n    markerfmt=\"x\",\n    label=\"MCP coefficients\",\n)\nplt.setp([m, s], color=\"#ff7f0e\")\nplt.stem(\n    np.where(w_star)[0],\n    w_star[w_star != 0],\n    label=\"true coefficients\",\n    markerfmt=\"bx\",\n)\n\nplt.legend(loc=\"best\")\nplt.title(\"MCP F1: %.3f, Elastic Net F1: %.3f\" % (f1_score_mcp, f1_score_enet))\nplt.show()"
      ]
    }
  ],
  "metadata": {
    "kernelspec": {
      "display_name": "Python 3",
      "language": "python",
      "name": "python3"
    },
    "language_info": {
      "codemirror_mode": {
        "name": "ipython",
        "version": 3
      },
      "file_extension": ".py",
      "mimetype": "text/x-python",
      "name": "python",
      "nbconvert_exporter": "python",
      "pygments_lexer": "ipython3",
      "version": "3.10.17"
    }
  },
  "nbformat": 4,
  "nbformat_minor": 0
}